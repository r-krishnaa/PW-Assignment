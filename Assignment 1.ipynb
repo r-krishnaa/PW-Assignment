{
 "cells": [
  {
   "cell_type": "markdown",
   "id": "c2f9d48c",
   "metadata": {},
   "source": [
    "## Q-1\n",
    "Create one variable containing following type of data:"
   ]
  },
  {
   "cell_type": "code",
   "execution_count": 2,
   "id": "2d956724",
   "metadata": {},
   "outputs": [],
   "source": [
    "my_string = \"Hello World\"\n",
    "my_list = [1,2,3,4]\n",
    "my_float = 3.9\n",
    "my_tuple = (4,5,6,7)"
   ]
  },
  {
   "cell_type": "markdown",
   "id": "81160864",
   "metadata": {},
   "source": [
    "## Q-2 \n",
    "Given are some following variables containing \n",
    "data:\n",
    "What will be the data type of the above given variable."
   ]
  },
  {
   "cell_type": "code",
   "execution_count": 6,
   "id": "a37bd7c1",
   "metadata": {
    "collapsed": true
   },
   "outputs": [
    {
     "ename": "SyntaxError",
     "evalue": "invalid character '‘' (U+2018) (2243111889.py, line 2)",
     "output_type": "error",
     "traceback": [
      "\u001b[1;36m  Cell \u001b[1;32mIn[6], line 2\u001b[1;36m\u001b[0m\n\u001b[1;33m    var1 = ‘ ‘\u001b[0m\n\u001b[1;37m           ^\u001b[0m\n\u001b[1;31mSyntaxError\u001b[0m\u001b[1;31m:\u001b[0m invalid character '‘' (U+2018)\n"
     ]
    }
   ],
   "source": [
    "var1 = ‘ ‘\n",
    "\tdata type of var1 is string 0 length, which is called empty string\n",
    "var2 = ‘[ DS , ML , Python]’\n",
    "\tdata type of var2 is list inside the string\n",
    "var3 = [ ‘DS’ , ’ML’ , ‘Python’ ]\n",
    "\tdata type of var3 is list \n",
    "var4 = 1.\n",
    "\tdata type of var4 is flaot\n"
   ]
  },
  {
   "cell_type": "markdown",
   "id": "4bdd0d32",
   "metadata": {},
   "source": [
    "## Q-3\n",
    "Explain the use of the following operators using an example:"
   ]
  },
  {
   "cell_type": "code",
   "execution_count": null,
   "id": "a05d0d4d",
   "metadata": {},
   "outputs": [],
   "source": [
    "(1) /  = division operator"
   ]
  },
  {
   "cell_type": "code",
   "execution_count": 15,
   "id": "4cf5fe6f",
   "metadata": {},
   "outputs": [
    {
     "data": {
      "text/plain": [
       "0.5"
      ]
     },
     "execution_count": 15,
     "metadata": {},
     "output_type": "execute_result"
    }
   ],
   "source": [
    "1/2"
   ]
  },
  {
   "cell_type": "code",
   "execution_count": null,
   "id": "d6f5f7ac",
   "metadata": {},
   "outputs": [],
   "source": [
    "(2) %  = modulas operator"
   ]
  },
  {
   "cell_type": "code",
   "execution_count": 16,
   "id": "75a1fb79",
   "metadata": {},
   "outputs": [
    {
     "data": {
      "text/plain": [
       "1"
      ]
     },
     "execution_count": 16,
     "metadata": {},
     "output_type": "execute_result"
    }
   ],
   "source": [
    "5%2"
   ]
  },
  {
   "cell_type": "code",
   "execution_count": null,
   "id": "e534e0f4",
   "metadata": {},
   "outputs": [],
   "source": [
    "(3) // = floor division"
   ]
  },
  {
   "cell_type": "code",
   "execution_count": 17,
   "id": "5c73cabd",
   "metadata": {},
   "outputs": [
    {
     "data": {
      "text/plain": [
       "5"
      ]
     },
     "execution_count": 17,
     "metadata": {},
     "output_type": "execute_result"
    }
   ],
   "source": [
    "20//4"
   ]
  },
  {
   "cell_type": "code",
   "execution_count": null,
   "id": "8970b873",
   "metadata": {},
   "outputs": [],
   "source": [
    "(4) ** = power operator"
   ]
  },
  {
   "cell_type": "code",
   "execution_count": 18,
   "id": "03ebcbd8",
   "metadata": {},
   "outputs": [
    {
     "data": {
      "text/plain": [
       "16"
      ]
     },
     "execution_count": 18,
     "metadata": {},
     "output_type": "execute_result"
    }
   ],
   "source": [
    "2**4"
   ]
  },
  {
   "cell_type": "markdown",
   "id": "de789bc0",
   "metadata": {},
   "source": [
    "## Q-4\n",
    "Create a list of length 10 of your choice containing multiple types of data. Using for loop print the\n",
    "element and its data type."
   ]
  },
  {
   "cell_type": "code",
   "execution_count": 12,
   "id": "af1f7eac",
   "metadata": {},
   "outputs": [
    {
     "name": "stdout",
     "output_type": "stream",
     "text": [
      "<class 'int'>\n",
      "<class 'float'>\n",
      "<class 'bool'>\n",
      "<class 'str'>\n",
      "<class 'list'>\n",
      "<class 'dict'>\n",
      "<class 'str'>\n",
      "<class 'complex'>\n",
      "<class 'str'>\n",
      "<class 'tuple'>\n"
     ]
    }
   ],
   "source": [
    "my_list = [1,2.5, True, \"Python\", [3, 4, 5], {\"name\": \"John\", \"age\": 25}, 'Me', 8+2j, 'Hello', (6,7)]\n",
    "for i in my_list:\n",
    "    print(type(i))"
   ]
  },
  {
   "cell_type": "markdown",
   "id": "810ddd5c",
   "metadata": {},
   "source": [
    "## Q-5\n",
    "Using a while loop, verify if the number A is purely divisible by number B and if so then how many\n",
    "times it can be divisible."
   ]
  },
  {
   "cell_type": "code",
   "execution_count": 21,
   "id": "9369ab9d",
   "metadata": {},
   "outputs": [
    {
     "name": "stdout",
     "output_type": "stream",
     "text": [
      "Number A is divisible by number B 1 times.\n"
     ]
    }
   ],
   "source": [
    "A = 24  \n",
    "B = 3   \n",
    "\n",
    "count = 0  \n",
    "\n",
    "while A % B == 0:\n",
    "    A = A / B\n",
    "    count += 1\n",
    "\n",
    "print(\"Number A is divisible by number B\", count, \"times.\")\n"
   ]
  },
  {
   "cell_type": "markdown",
   "id": "089281b0",
   "metadata": {},
   "source": [
    "## Q-6 \n",
    "Create a list containing 25 int type data. Using for loop and if-else condition print if the element is\n",
    "divisible by 3 or not."
   ]
  },
  {
   "cell_type": "code",
   "execution_count": 20,
   "id": "cfa5fd62",
   "metadata": {},
   "outputs": [
    {
     "name": "stdout",
     "output_type": "stream",
     "text": [
      "22 Not divisible by 3\n",
      "19 Not divisible by 3\n",
      "31 Not divisible by 3\n",
      "24 Divisible by 3\n",
      "17 Not divisible by 3\n",
      "45 Divisible by 3\n",
      "27 Divisible by 3\n",
      "36 Divisible by 3\n",
      "11 Not divisible by 3\n",
      "9 Divisible by 3\n",
      "42 Divisible by 3\n",
      "33 Divisible by 3\n",
      "10 Not divisible by 3\n",
      "14 Not divisible by 3\n",
      "21 Divisible by 3\n",
      "7 Not divisible by 3\n",
      "8 Not divisible by 3\n",
      "30 Divisible by 3\n",
      "29 Not divisible by 3\n",
      "6 Divisible by 3\n",
      "23 Not divisible by 3\n",
      "20 Not divisible by 3\n",
      "16 Not divisible by 3\n",
      "4 Not divisible by 3\n",
      "13 Not divisible by 3\n"
     ]
    }
   ],
   "source": [
    "my_list = [22, 19, 31, 24, 17, 45, 27, 36, 11, 9, 42, 33, 10, 14, 21, 7, 8, 30, 29, 6, 23, 20, 16, 4, 13]\n",
    "\n",
    "for element in my_list:\n",
    "    if element % 3 == 0:\n",
    "        print(element, \"Divisible by 3\")\n",
    "    else:\n",
    "        print(element, \"Not divisible by 3\")\n"
   ]
  },
  {
   "cell_type": "markdown",
   "id": "f8326ba3",
   "metadata": {},
   "source": [
    "## Q-7\n",
    "What do you understand about mutable and immutable data types? Give examples for both showing\n",
    "this property."
   ]
  },
  {
   "cell_type": "markdown",
   "id": "10a42c06",
   "metadata": {},
   "source": [
    "Mutable : Mutable data types are changable like you can manipulate that data "
   ]
  },
  {
   "cell_type": "markdown",
   "id": "8ddc7744",
   "metadata": {},
   "source": [
    "Immutable : Immutable data types are not changable. "
   ]
  },
  {
   "cell_type": "code",
   "execution_count": 22,
   "id": "410f78b0",
   "metadata": {},
   "outputs": [],
   "source": [
    "Z = 'Krishna'"
   ]
  },
  {
   "cell_type": "code",
   "execution_count": 23,
   "id": "38bcad16",
   "metadata": {},
   "outputs": [
    {
     "ename": "TypeError",
     "evalue": "'str' object does not support item assignment",
     "output_type": "error",
     "traceback": [
      "\u001b[1;31m---------------------------------------------------------------------------\u001b[0m",
      "\u001b[1;31mTypeError\u001b[0m                                 Traceback (most recent call last)",
      "Cell \u001b[1;32mIn[23], line 1\u001b[0m\n\u001b[1;32m----> 1\u001b[0m Z[\u001b[38;5;241m2\u001b[39m] \u001b[38;5;241m=\u001b[39m \u001b[38;5;124m'\u001b[39m\u001b[38;5;124mu\u001b[39m\u001b[38;5;124m'\u001b[39m\n",
      "\u001b[1;31mTypeError\u001b[0m: 'str' object does not support item assignment"
     ]
    }
   ],
   "source": [
    "Z[2] = 'u'\n",
    "# so strings are immutable"
   ]
  },
  {
   "cell_type": "code",
   "execution_count": 24,
   "id": "94dbb835",
   "metadata": {},
   "outputs": [],
   "source": [
    "X = [1,2,3,'Me','You']"
   ]
  },
  {
   "cell_type": "code",
   "execution_count": 26,
   "id": "6d94db86",
   "metadata": {},
   "outputs": [],
   "source": [
    "X[2] = 'We'"
   ]
  },
  {
   "cell_type": "code",
   "execution_count": 27,
   "id": "886c24ec",
   "metadata": {},
   "outputs": [
    {
     "data": {
      "text/plain": [
       "[1, 2, 'We', 'Me', 'You']"
      ]
     },
     "execution_count": 27,
     "metadata": {},
     "output_type": "execute_result"
    }
   ],
   "source": [
    "X"
   ]
  },
  {
   "cell_type": "code",
   "execution_count": null,
   "id": "1c27b1fb",
   "metadata": {},
   "outputs": [],
   "source": [
    "lists are mutable"
   ]
  }
 ],
 "metadata": {
  "kernelspec": {
   "display_name": "Python 3 (ipykernel)",
   "language": "python",
   "name": "python3"
  },
  "language_info": {
   "codemirror_mode": {
    "name": "ipython",
    "version": 3
   },
   "file_extension": ".py",
   "mimetype": "text/x-python",
   "name": "python",
   "nbconvert_exporter": "python",
   "pygments_lexer": "ipython3",
   "version": "3.10.9"
  }
 },
 "nbformat": 4,
 "nbformat_minor": 5
}
